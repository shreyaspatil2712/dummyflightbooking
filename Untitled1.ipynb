{
  "cells": [
    {
      "cell_type": "code",
      "source": [
        "import smtplib"
      ],
      "metadata": {
        "id": "knp9FfYTCsO2"
      },
      "execution_count": 2,
      "outputs": []
    },
    {
      "cell_type": "code",
      "execution_count": 3,
      "metadata": {
        "colab": {
          "base_uri": "https://localhost:8080/"
        },
        "id": "NENpR7msqX1q",
        "outputId": "40c7793d-1c07-4262-d64c-344d016d6157"
      },
      "outputs": [
        {
          "output_type": "stream",
          "name": "stdout",
          "text": [
            "Collecting mysql.connector\n",
            "  Downloading mysql-connector-2.2.9.tar.gz (11.9 MB)\n",
            "\u001b[K     |████████████████████████████████| 11.9 MB 4.4 MB/s \n",
            "\u001b[?25hBuilding wheels for collected packages: mysql.connector\n",
            "  Building wheel for mysql.connector (setup.py) ... \u001b[?25l\u001b[?25hdone\n",
            "  Created wheel for mysql.connector: filename=mysql_connector-2.2.9-cp37-cp37m-linux_x86_64.whl size=247965 sha256=c985f32f379d8e7ded009f35a62f6d72b8f2056b669920dc117296df8d9359ce\n",
            "  Stored in directory: /root/.cache/pip/wheels/42/2f/c3/692fc7fc1f0d8c06b9175d94f0fc30f4f92348f5df5af1b8b7\n",
            "Successfully built mysql.connector\n",
            "Installing collected packages: mysql.connector\n",
            "Successfully installed mysql.connector-2.2.9\n"
          ]
        }
      ],
      "source": [
        "!pip install mysql.connector"
      ]
    },
    {
      "cell_type": "code",
      "execution_count": 4,
      "metadata": {
        "colab": {
          "base_uri": "https://localhost:8080/",
          "height": 419
        },
        "id": "wyY1HdPSqTJy",
        "outputId": "c5f99cd6-8edf-4698-8903-9e525ea75f42"
      },
      "outputs": [
        {
          "output_type": "stream",
          "name": "stdout",
          "text": [
            "Collecting anvil-uplink\n",
            "  Downloading anvil_uplink-0.3.41-py2.py3-none-any.whl (64 kB)\n",
            "\u001b[?25l\r\u001b[K     |█████                           | 10 kB 18.4 MB/s eta 0:00:01\r\u001b[K     |██████████▏                     | 20 kB 10.6 MB/s eta 0:00:01\r\u001b[K     |███████████████▎                | 30 kB 8.8 MB/s eta 0:00:01\r\u001b[K     |████████████████████▎           | 40 kB 8.0 MB/s eta 0:00:01\r\u001b[K     |█████████████████████████▍      | 51 kB 4.9 MB/s eta 0:00:01\r\u001b[K     |██████████████████████████████▌ | 61 kB 5.1 MB/s eta 0:00:01\r\u001b[K     |████████████████████████████████| 64 kB 1.9 MB/s \n",
            "\u001b[?25hRequirement already satisfied: future in /usr/local/lib/python3.7/dist-packages (from anvil-uplink) (0.16.0)\n",
            "Requirement already satisfied: six in /usr/local/lib/python3.7/dist-packages (from anvil-uplink) (1.15.0)\n",
            "Collecting ws4py\n",
            "  Downloading ws4py-0.5.1.tar.gz (51 kB)\n",
            "\u001b[K     |████████████████████████████████| 51 kB 165 kB/s \n",
            "\u001b[?25hCollecting argparse\n",
            "  Downloading argparse-1.4.0-py2.py3-none-any.whl (23 kB)\n",
            "Building wheels for collected packages: ws4py\n",
            "  Building wheel for ws4py (setup.py) ... \u001b[?25l\u001b[?25hdone\n",
            "  Created wheel for ws4py: filename=ws4py-0.5.1-py3-none-any.whl size=45230 sha256=c88d4bf6cedf743b409e0c04210a2e7b71f8936943a4bd65a6a55a74831a8d0d\n",
            "  Stored in directory: /root/.cache/pip/wheels/29/ea/7d/3410aa0aa0e4402ead9a7a97ab2214804887e0f5c2b76f0c96\n",
            "Successfully built ws4py\n",
            "Installing collected packages: ws4py, argparse, anvil-uplink\n",
            "Successfully installed anvil-uplink-0.3.41 argparse-1.4.0 ws4py-0.5.1\n"
          ]
        },
        {
          "output_type": "display_data",
          "data": {
            "application/vnd.colab-display-data+json": {
              "pip_warning": {
                "packages": [
                  "argparse",
                  "google"
                ]
              }
            }
          },
          "metadata": {}
        }
      ],
      "source": [
        "!pip install anvil-uplink"
      ]
    },
    {
      "cell_type": "code",
      "execution_count": 5,
      "metadata": {
        "colab": {
          "base_uri": "https://localhost:8080/",
          "height": 427
        },
        "id": "qi6ZuPTgqQW8",
        "outputId": "95c8495d-964e-40e4-e17a-1e908ae8be45"
      },
      "outputs": [
        {
          "output_type": "stream",
          "name": "stdout",
          "text": [
            "Connecting to wss://anvil.works/uplink\n",
            "Anvil websocket open\n",
            "Connected to \"Default environment\" as SERVER\n",
            "lib imported\n",
            "dbcursor\n",
            "pwd fetched\n",
            "db and cur closed\n",
            "abc123\n"
          ]
        },
        {
          "output_type": "error",
          "ename": "KeyboardInterrupt",
          "evalue": "ignored",
          "traceback": [
            "\u001b[0;31m---------------------------------------------------------------------------\u001b[0m",
            "\u001b[0;31mKeyboardInterrupt\u001b[0m                         Traceback (most recent call last)",
            "\u001b[0;32m<ipython-input-5-ecf2fd5ee7b1>\u001b[0m in \u001b[0;36m<module>\u001b[0;34m()\u001b[0m\n\u001b[1;32m    137\u001b[0m   \u001b[0mprint\u001b[0m\u001b[0;34m(\u001b[0m\u001b[0mflts\u001b[0m\u001b[0;34m)\u001b[0m\u001b[0;34m\u001b[0m\u001b[0;34m\u001b[0m\u001b[0m\n\u001b[1;32m    138\u001b[0m \u001b[0manvil\u001b[0m\u001b[0;34m.\u001b[0m\u001b[0mserver\u001b[0m\u001b[0;34m.\u001b[0m\u001b[0mconnect\u001b[0m\u001b[0;34m(\u001b[0m\u001b[0;34m\"WAV5ORYWFJWREIXEON4ZWOZ3-WETMWZ4XUUXUN4SG\"\u001b[0m\u001b[0;34m)\u001b[0m\u001b[0;34m\u001b[0m\u001b[0;34m\u001b[0m\u001b[0m\n\u001b[0;32m--> 139\u001b[0;31m \u001b[0manvil\u001b[0m\u001b[0;34m.\u001b[0m\u001b[0mserver\u001b[0m\u001b[0;34m.\u001b[0m\u001b[0mwait_forever\u001b[0m\u001b[0;34m(\u001b[0m\u001b[0;34m)\u001b[0m\u001b[0;34m\u001b[0m\u001b[0;34m\u001b[0m\u001b[0m\n\u001b[0m",
            "\u001b[0;32m/usr/local/lib/python3.7/dist-packages/anvil/server.py\u001b[0m in \u001b[0;36mwait_forever\u001b[0;34m()\u001b[0m\n\u001b[1;32m    430\u001b[0m     \u001b[0m_get_connection\u001b[0m\u001b[0;34m(\u001b[0m\u001b[0;34m)\u001b[0m\u001b[0;34m\u001b[0m\u001b[0;34m\u001b[0m\u001b[0m\n\u001b[1;32m    431\u001b[0m     \u001b[0;32mwhile\u001b[0m \u001b[0;32mTrue\u001b[0m\u001b[0;34m:\u001b[0m\u001b[0;34m\u001b[0m\u001b[0;34m\u001b[0m\u001b[0m\n\u001b[0;32m--> 432\u001b[0;31m         \u001b[0mtime\u001b[0m\u001b[0;34m.\u001b[0m\u001b[0msleep\u001b[0m\u001b[0;34m(\u001b[0m\u001b[0;36m1\u001b[0m\u001b[0;34m)\u001b[0m\u001b[0;34m\u001b[0m\u001b[0;34m\u001b[0m\u001b[0m\n\u001b[0m",
            "\u001b[0;31mKeyboardInterrupt\u001b[0m: "
          ]
        }
      ],
      "source": [
        "import anvil.server\n",
        "import mysql.connector\n",
        "import smtplib\n",
        "@anvil.server.callable\n",
        "def exsistingchk(customer_id):\n",
        "  import mysql.connector\n",
        "  print('lib imported')\n",
        "  db=mysql.connector.connect(host=\"sql6.freesqldatabase.com\",user=\"sql6460981\",password=\"C2VxbpIY3M\",database=\"sql6460981\")\n",
        "  cur = db.cursor()\n",
        "  print('dbcursor')\n",
        "  cur.execute('SELECT customer_id FROM customer_master WHERE customer_id='+\"'\"+str(customer_id)+\"'\")\n",
        "  print('exisiting user check query')\n",
        "  try:\n",
        "    existingchk1 = cur.fetchall()[0][0]\n",
        "  except:\n",
        "    existingchk1 = 'None'\n",
        "  if existingchk1 == customer_id:\n",
        "    return 1\n",
        "  else:\n",
        "    return 0  \n",
        "\n",
        "\n",
        "\n",
        "@anvil.server.callable\n",
        "def mailer(email,name):\n",
        "  import smtplib\n",
        "\n",
        "  sender = \"Private Person <egaleairline@example.com>\"\n",
        "  receiver = \"A Test User <\"+ str(email) +\">\"\n",
        "  message = f\"\"\"\\\n",
        "  Subject: payment link (dummy booking)\n",
        "  To: {receiver}\n",
        "  From: {sender}\n",
        "\n",
        "  Hello sir/ma'am \"\"\" + str(name) + \"\"\"!\n",
        "  This mail is intended to contain a a payment link for the dummy flight booking \n",
        "  web app created as a part of my introduction to engineering project. This a DUMMY APP\n",
        "  and NO REAL FLGIHT HAS BEEN BOOKED NOR ANY PAYMENTS HAVE BEEN PROCESSED.\n",
        "  \n",
        "\n",
        "  This is a test e-mail message.\"\"\"\n",
        "  \n",
        "@anvil.server.callable\n",
        "def booking(name,email,gender,psn,customerid,flightnumber):\n",
        "  import mysql.connector\n",
        "  print('lib imported')\n",
        "  db=mysql.connector.connect(host=\"sql6.freesqldatabase.com\",user=\"sql6460981\",password=\"C2VxbpIY3M\",database=\"sql6460981\")\n",
        "  cur = db.cursor(buffered=True)\n",
        "  print('dbcursor loaded for booking')\n",
        "  cur.execute('INSERT INTO customer_master VALUES '+'(' + str(customerid) + \",'\" + str(name) + \"','\" + str(gender) + \"',\" + str(psn) + \",'\" + str(email) + \"')\")\n",
        "  print('inserted into customer_master')\n",
        "  cur.execute('INSERT INTO customer_flight VALUES '+'(' + str(customerid) + \",'\" + str(flightnumber) + \"')\")\n",
        "  print('inserted into customer_flight')\n",
        "  db.commit()\n",
        "  cur.close()\n",
        "  db.close()\n",
        "  print('cur, db have been closed')\n",
        "  return('flight booked, you will recieve an email with the payment link')\n",
        "@anvil.server.callable\n",
        "def getpwd(userid):\n",
        "  import mysql.connector\n",
        "  print('lib imported')\n",
        "  db=mysql.connector.connect(host=\"sql6.freesqldatabase.com\",user=\"sql6460981\",password=\"C2VxbpIY3M\",database=\"sql6460981\")\n",
        "  cur = db.cursor(buffered=True)\n",
        "  print('dbcursor')\n",
        "  cur.execute('SELECT pwd FROM logininfo WHERE user_id='+\"'\"+str(userid)+\"'\")\n",
        "  pwd = cur.fetchall()[0][0]\n",
        "  print('pwd fetched')\n",
        "  cur.execute('SELECT customer_id FROM logininfo WHERE user_id='+\"'\"+str(userid)+\"'\")\n",
        "  customerid = cur.fetchall()[0][0]\n",
        "  cur.close()\n",
        "  db.close()\n",
        "  print('db and cur closed')\n",
        "  print(pwd)\n",
        "  return (pwd,customerid)\n",
        "\n",
        "@anvil.server.callable\n",
        "def newusr(userid,pwd):\n",
        "  import mysql.connector\n",
        "  print('lib imported')\n",
        "  db=mysql.connector.connect(host=\"sql6.freesqldatabase.com\",user=\"sql6460981\",password=\"C2VxbpIY3M\",database=\"sql6460981\")\n",
        "  cur = db.cursor()\n",
        "  print('dbcursor')\n",
        "  cur.execute('SELECT user_id FROM logininfo WHERE user_id='+\"'\"+str(userid)+\"'\")\n",
        "  print('exisiting user check query')\n",
        "  try:\n",
        "    existingchk = cur.fetchall()[0][0]\n",
        "  except:\n",
        "    existingchk = 'None' \n",
        "  print('exisitng userk check created and running if')\n",
        "  if existingchk == userid:\n",
        "    return 'User already exists'\n",
        "  else:\n",
        "    print('running else')\n",
        "    cur.execute('SELECT COUNT(*) FROM logininfo')\n",
        "    print('count found')\n",
        "    customer_id = int(cur.fetchall()[0][0]) + 1\n",
        "    print('customer id created')\n",
        "    cur.execute('INSERT INTO logininfo (customer_id,user_id,pwd) VALUES'+\"('\"+str(customer_id)+\"','\"+str(userid)+\"','\"+str(pwd)+\"')\")\n",
        "    print('user added')\n",
        "    db.commit()\n",
        "    print('db commited')\n",
        "    cur.close()\n",
        "    db.close()\n",
        "    print('connections closed')\n",
        "    return 'User successfully registered'\n",
        "\n",
        "\n",
        "\n",
        "\n",
        "\n",
        "\n",
        "@anvil.server.callable\n",
        "def searchquery(date,fromp,top1):\n",
        "  import mysql.connector\n",
        "  print('lib imported')\n",
        "  db=mysql.connector.connect(host=\"sql6.freesqldatabase.com\",user=\"sql6460981\",password=\"C2VxbpIY3M\",database=\"sql6460981\")\n",
        "  cur = db.cursor()\n",
        "  print('do')\n",
        "\n",
        "  cur.execute('SELECT city_id FROM locationmaster WHERE airport=' +\"'\"+str(fromp)+\"'\")\n",
        "  cityidfrom = cur.fetchall()[0][0]\n",
        "  cur.execute('SELECT city_id FROM locationmaster WHERE airport='+\"'\"+str(top1)+\"'\")\n",
        "  cityidto = cur.fetchall()[0][0]\n",
        "  cur = db.cursor(dictionary=True)\n",
        "  cur.execute('SELECT * FROM finalview WHERE fromcity_id='+\"'\"+str(cityidfrom)+\"'\"+' AND tocity_id = '+\"'\"+str(cityidto)+\"'\"+' AND depdatetime LIKE '+\"'%\"+str(date)+\"%'\")\n",
        "  print('query executed')\n",
        "  \n",
        "  flts = []\n",
        "  templst = []\n",
        "  x = 0\n",
        "\n",
        "  for row in cur.fetchall():\n",
        "    flts.append(row)\n",
        "  return flts\n",
        "  db.close()\n",
        "  cur.close()\n",
        "  print(flts)\n",
        "anvil.server.connect(\"WAV5ORYWFJWREIXEON4ZWOZ3-WETMWZ4XUUXUN4SG\")\n",
        "anvil.server.wait_forever()"
      ]
    },
    {
      "cell_type": "code",
      "execution_count": null,
      "metadata": {
        "colab": {
          "base_uri": "https://localhost:8080/",
          "height": 166
        },
        "id": "Oj_Xk8_wGBCE",
        "outputId": "93d26af7-bd7a-4829-baad-0e3e9d152455"
      },
      "outputs": [
        {
          "ename": "NameError",
          "evalue": "ignored",
          "output_type": "error",
          "traceback": [
            "\u001b[0;31m---------------------------------------------------------------------------\u001b[0m",
            "\u001b[0;31mNameError\u001b[0m                                 Traceback (most recent call last)",
            "\u001b[0;32m<ipython-input-5-168085b004b5>\u001b[0m in \u001b[0;36m<module>\u001b[0;34m()\u001b[0m\n\u001b[0;32m----> 1\u001b[0;31m \u001b[0mdb\u001b[0m\u001b[0;34m.\u001b[0m\u001b[0mclose\u001b[0m\u001b[0;34m(\u001b[0m\u001b[0;34m)\u001b[0m\u001b[0;34m\u001b[0m\u001b[0;34m\u001b[0m\u001b[0m\n\u001b[0m",
            "\u001b[0;31mNameError\u001b[0m: name 'db' is not defined"
          ]
        }
      ],
      "source": [
        "db.close()"
      ]
    },
    {
      "cell_type": "code",
      "execution_count": null,
      "metadata": {
        "id": "NEvN-hLRJDag"
      },
      "outputs": [],
      "source": [
        ""
      ]
    }
  ],
  "metadata": {
    "colab": {
      "collapsed_sections": [],
      "name": "Untitled1.ipynb",
      "provenance": []
    },
    "kernelspec": {
      "display_name": "Python 3",
      "name": "python3"
    },
    "language_info": {
      "name": "python"
    }
  },
  "nbformat": 4,
  "nbformat_minor": 0
}